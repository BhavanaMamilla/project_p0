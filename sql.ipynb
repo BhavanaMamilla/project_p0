{
 "cells": [
  {
   "cell_type": "code",
   "execution_count": 1,
   "id": "495beb5f-8dad-4fcd-bb6f-a28ab3ac796a",
   "metadata": {},
   "outputs": [
    {
     "name": "stdout",
     "output_type": "stream",
     "text": [
      "Collecting mysql-connector-python\n",
      "  Downloading mysql_connector_python-9.0.0-cp310-cp310-win_amd64.whl (14.3 MB)\n",
      "Installing collected packages: mysql-connector-python\n",
      "Successfully installed mysql-connector-python-9.0.0\n"
     ]
    },
    {
     "name": "stderr",
     "output_type": "stream",
     "text": [
      "WARNING: You are using pip version 21.2.4; however, version 24.2 is available.\n",
      "You should consider upgrading via the 'C:\\Users\\Gopi Boga\\AppData\\Local\\Programs\\Python\\Python310\\python.exe -m pip install --upgrade pip' command.\n"
     ]
    }
   ],
   "source": [
    "!pip install mysql-connector-python"
   ]
  },
  {
   "cell_type": "code",
   "execution_count": 2,
   "id": "da57b531-453e-4280-861b-d61a109bd8e5",
   "metadata": {},
   "outputs": [],
   "source": [
    "import mysql.connector"
   ]
  },
  {
   "cell_type": "code",
   "execution_count": 32,
   "id": "b433ea89-b7e3-4512-a8cd-822fd76ba465",
   "metadata": {},
   "outputs": [],
   "source": [
    "db=mysql.connector.connect(\n",
    "    host='localhost',\n",
    "    user='root',\n",
    "    password='Bhavana@123',\n",
    "    database='tables')"
   ]
  },
  {
   "cell_type": "code",
   "execution_count": 31,
   "id": "5d4684a1-93d1-4867-a4ef-8564885752c9",
   "metadata": {},
   "outputs": [],
   "source": [
    "db.close()"
   ]
  },
  {
   "cell_type": "code",
   "execution_count": 33,
   "id": "b9597468-8626-419a-8624-e921dce4feca",
   "metadata": {},
   "outputs": [],
   "source": [
    "cursor=db.cursor()"
   ]
  },
  {
   "cell_type": "code",
   "execution_count": 17,
   "id": "14808140-dec6-4fea-92cd-ea6744b5926b",
   "metadata": {},
   "outputs": [
    {
     "name": "stdout",
     "output_type": "stream",
     "text": [
      "('bigbasket',)\n",
      "('bigbasket_view',)\n",
      "('bigbasket_view1',)\n",
      "('country_sales',)\n",
      "('customer',)\n",
      "('customers',)\n",
      "('discount_view',)\n",
      "('discount_view1',)\n",
      "('employees',)\n",
      "('employees1',)\n",
      "('employeesinfo',)\n",
      "('order1',)\n",
      "('orders',)\n",
      "('products',)\n",
      "('programmers',)\n",
      "('sales',)\n",
      "('software',)\n",
      "('students',)\n",
      "('studies',)\n",
      "('tasks',)\n",
      "('user',)\n"
     ]
    }
   ],
   "source": [
    "cursor.execute(\"show tables\")\n",
    "result=cursor.fetchall()\n",
    "for row in result:\n",
    "      print(row)"
   ]
  },
  {
   "cell_type": "code",
   "execution_count": 16,
   "id": "fc6e5f6c-c117-4ed4-bad0-1ae667abb72f",
   "metadata": {},
   "outputs": [
    {
     "name": "stdout",
     "output_type": "stream",
     "text": [
      "(2000, 'Finland', 'Computer', 1500)\n",
      "(2000, 'Finland', 'Phone', 100)\n",
      "(2001, 'Finland', 'Phone', 10)\n",
      "(2000, 'India', 'Calculator', 75)\n",
      "(2000, 'India', 'Calculator', 75)\n",
      "(2000, 'India', 'Computer', 1200)\n",
      "(2000, 'USA', 'Calculator', 75)\n",
      "(2000, 'USA', 'Computer', 1500)\n",
      "(2001, 'USA', 'Calculator', 50)\n",
      "(2001, 'USA', 'Computer', 1500)\n",
      "(2001, 'USA', 'Computer', 1200)\n",
      "(2001, 'USA', 'TV', 150)\n",
      "(2001, 'USA', 'TV', 100)\n"
     ]
    }
   ],
   "source": [
    "cursor.execute(\"select * from country_sales\")\n",
    "result=cursor.fetchall()\n",
    "for row in result:\n",
    "      print(row)"
   ]
  },
  {
   "cell_type": "code",
   "execution_count": 18,
   "id": "3e4d6964-409e-44fb-968d-082aa808ff52",
   "metadata": {},
   "outputs": [
    {
     "name": "stdout",
     "output_type": "stream",
     "text": [
      "first row (2000, 'Finland', 'Computer', 1500)\n"
     ]
    }
   ],
   "source": [
    "cursor.execute(\"select * from country_sales\")\n",
    "result=cursor.fetchone()\n",
    "print('first row',result)\n"
   ]
  },
  {
   "cell_type": "code",
   "execution_count": 34,
   "id": "701ecb8a-2053-4d18-8a48-53772726b6c6",
   "metadata": {},
   "outputs": [
    {
     "name": "stdout",
     "output_type": "stream",
     "text": [
      "first 4 row [(2000, 'Finland', 'Computer', 1500), (2000, 'Finland', 'Phone', 100), (2001, 'Finland', 'Phone', 10), (2000, 'India', 'Calculator', 75)]\n",
      "(2000, 'Finland', 'Computer', 1500)\n",
      "(2000, 'Finland', 'Phone', 100)\n",
      "(2001, 'Finland', 'Phone', 10)\n",
      "(2000, 'India', 'Calculator', 75)\n"
     ]
    }
   ],
   "source": [
    "cursor.execute(\"select * from country_sales\")\n",
    "result=cursor.fetchmany(size=4)\n",
    "print('first 4 row',result)\n",
    "for i in result:\n",
    "    print(i)"
   ]
  },
  {
   "cell_type": "code",
   "execution_count": null,
   "id": "601aae5a-5bfd-4f91-9bf2-9504b75ea867",
   "metadata": {},
   "outputs": [],
   "source": []
  }
 ],
 "metadata": {
  "kernelspec": {
   "display_name": "Python 3 (ipykernel)",
   "language": "python",
   "name": "python3"
  },
  "language_info": {
   "codemirror_mode": {
    "name": "ipython",
    "version": 3
   },
   "file_extension": ".py",
   "mimetype": "text/x-python",
   "name": "python",
   "nbconvert_exporter": "python",
   "pygments_lexer": "ipython3",
   "version": "3.10.1"
  }
 },
 "nbformat": 4,
 "nbformat_minor": 5
}
